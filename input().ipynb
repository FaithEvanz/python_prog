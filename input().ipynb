{
 "cells": [
  {
   "cell_type": "code",
   "execution_count": 1,
   "id": "42ded627",
   "metadata": {},
   "outputs": [
    {
     "name": "stdout",
     "output_type": "stream",
     "text": [
      "Enter username:Fiona\n"
     ]
    }
   ],
   "source": [
    "username = input('Enter username:')\n"
   ]
  },
  {
   "cell_type": "code",
   "execution_count": 2,
   "id": "51e327a2",
   "metadata": {},
   "outputs": [
    {
     "name": "stdout",
     "output_type": "stream",
     "text": [
      "Username is: Fiona\n"
     ]
    }
   ],
   "source": [
    "print(\"Username is:\"+ \" \"+username)"
   ]
  },
  {
   "cell_type": "code",
   "execution_count": 3,
   "id": "5fbfe8be",
   "metadata": {},
   "outputs": [
    {
     "name": "stdout",
     "output_type": "stream",
     "text": [
      "Hello Fiona\n"
     ]
    }
   ],
   "source": [
    "print(\"Hello\" +  \" \"+username)"
   ]
  },
  {
   "cell_type": "code",
   "execution_count": 30,
   "id": "5ceef113",
   "metadata": {},
   "outputs": [
    {
     "name": "stdout",
     "output_type": "stream",
     "text": [
      "Enter hours:35\n"
     ]
    }
   ],
   "source": [
    "hours = float(input(\"Enter hours:\"))\n"
   ]
  },
  {
   "cell_type": "code",
   "execution_count": 31,
   "id": "b1698bba",
   "metadata": {},
   "outputs": [
    {
     "name": "stdout",
     "output_type": "stream",
     "text": [
      "Enter Rate:2.75\n"
     ]
    }
   ],
   "source": [
    "rate = float(input(\"Enter Rate:\"))"
   ]
  },
  {
   "cell_type": "code",
   "execution_count": 37,
   "id": "0d73ac1e",
   "metadata": {},
   "outputs": [
    {
     "ename": "TypeError",
     "evalue": "can't multiply sequence by non-int of type 'str'",
     "output_type": "error",
     "traceback": [
      "\u001b[1;31m---------------------------------------------------------------------------\u001b[0m",
      "\u001b[1;31mTypeError\u001b[0m                                 Traceback (most recent call last)",
      "Input \u001b[1;32mIn [37]\u001b[0m, in \u001b[0;36m<cell line: 1>\u001b[1;34m()\u001b[0m\n\u001b[1;32m----> 1\u001b[0m pay \u001b[38;5;241m=\u001b[39m \u001b[43m(\u001b[49m\u001b[43mhours\u001b[49m\u001b[43m)\u001b[49m\u001b[43m \u001b[49m\u001b[38;5;241;43m*\u001b[39;49m\u001b[43m \u001b[49m\u001b[43m(\u001b[49m\u001b[43mrate\u001b[49m\u001b[43m)\u001b[49m\n\u001b[0;32m      2\u001b[0m \u001b[38;5;28mprint\u001b[39m(pay )\n",
      "\u001b[1;31mTypeError\u001b[0m: can't multiply sequence by non-int of type 'str'"
     ]
    }
   ],
   "source": [
    "pay = ((hours) * (rate)\n",
    "print(pay )"
   ]
  },
  {
   "cell_type": "code",
   "execution_count": 25,
   "id": "529a92a1",
   "metadata": {},
   "outputs": [
    {
     "name": "stdout",
     "output_type": "stream",
     "text": [
      "Enter Celsius Temperature:37\n"
     ]
    }
   ],
   "source": [
    "temp = input(\"Enter Celsius Temperature:\")"
   ]
  },
  {
   "cell_type": "code",
   "execution_count": 28,
   "id": "6f689e49",
   "metadata": {},
   "outputs": [],
   "source": [
    "\n",
    "fahren = ((int(temp) *1.8) + 32)"
   ]
  },
  {
   "cell_type": "code",
   "execution_count": 29,
   "id": "25ae3b06",
   "metadata": {},
   "outputs": [
    {
     "name": "stdout",
     "output_type": "stream",
     "text": [
      "98.60000000000001\n"
     ]
    }
   ],
   "source": [
    "print(fahren)"
   ]
  },
  {
   "cell_type": "code",
   "execution_count": null,
   "id": "489d3a4f",
   "metadata": {},
   "outputs": [],
   "source": []
  }
 ],
 "metadata": {
  "kernelspec": {
   "display_name": "Python 3 (ipykernel)",
   "language": "python",
   "name": "python3"
  },
  "language_info": {
   "codemirror_mode": {
    "name": "ipython",
    "version": 3
   },
   "file_extension": ".py",
   "mimetype": "text/x-python",
   "name": "python",
   "nbconvert_exporter": "python",
   "pygments_lexer": "ipython3",
   "version": "3.9.12"
  }
 },
 "nbformat": 4,
 "nbformat_minor": 5
}
